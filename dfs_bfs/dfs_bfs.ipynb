{
  "nbformat": 4,
  "nbformat_minor": 0,
  "metadata": {
    "colab": {
      "name": "dfs_bfs.ipynb",
      "provenance": []
    },
    "kernelspec": {
      "name": "python3",
      "display_name": "Python 3"
    },
    "language_info": {
      "name": "python"
    }
  },
  "cells": [
    {
      "cell_type": "markdown",
      "metadata": {
        "id": "riWoYWXogZAd"
      },
      "source": [
        "# **DFS**"
      ]
    },
    {
      "cell_type": "code",
      "metadata": {
        "id": "WjmgysaLgeDE"
      },
      "source": [
        "graph = {\n",
        "    'A': ['B', 'C'],\n",
        "    'B': ['D', 'E'],\n",
        "    'C': ['F'],\n",
        "    'D': [],\n",
        "    'E': ['F'],\n",
        "    'F': []\n",
        "}"
      ],
      "execution_count": 1,
      "outputs": []
    },
    {
      "cell_type": "code",
      "metadata": {
        "id": "XMBVIYW9gjyT"
      },
      "source": [
        "def dfs(visited, graph, node, goals):\n",
        "    if node not in visited:\n",
        "        visited.append(node)\n",
        "        if node == goals:\n",
        "            print(visited)\n",
        "        for neighbour in graph[node]:\n",
        "            dfs(visited, graph, neighbour, goals)"
      ],
      "execution_count": 2,
      "outputs": []
    },
    {
      "cell_type": "code",
      "metadata": {
        "colab": {
          "base_uri": "https://localhost:8080/"
        },
        "id": "UeTkadvvgnhW",
        "outputId": "f800a14d-f961-4fc7-d868-6209ddcd94d1"
      },
      "source": [
        "print('###DFS###')\n",
        "visited = []\n",
        "dfs(visited, graph, 'A', 'F')"
      ],
      "execution_count": 3,
      "outputs": [
        {
          "output_type": "stream",
          "text": [
            "###DFS###\n",
            "['A', 'B', 'D', 'E', 'F']\n"
          ],
          "name": "stdout"
        }
      ]
    },
    {
      "cell_type": "markdown",
      "metadata": {
        "id": "C2Sx_uMGgvTY"
      },
      "source": [
        "# **BFS**"
      ]
    },
    {
      "cell_type": "code",
      "metadata": {
        "id": "dCZAZEjVgysD"
      },
      "source": [
        "queue = []\n",
        "\n",
        "def bfs(visited, graph, node, goals):\n",
        "    visited.append(node)\n",
        "    queue.append(node)\n",
        "\n",
        "    while queue:\n",
        "        s = queue.pop(0)\n",
        "        print(s, end=\" \")\n",
        "\n",
        "        if s == goals:\n",
        "            break\n",
        "\n",
        "        for neighbour in graph[s]:\n",
        "            if neighbour not in visited:\n",
        "                visited.append(neighbour)\n",
        "                queue.append(neighbour)"
      ],
      "execution_count": 4,
      "outputs": []
    },
    {
      "cell_type": "code",
      "metadata": {
        "colab": {
          "base_uri": "https://localhost:8080/"
        },
        "id": "vV7a6Zmhg2a8",
        "outputId": "718d59e9-ff4b-4715-a78d-1b2a195ce50d"
      },
      "source": [
        "print('###BFS###')\n",
        "visited = []\n",
        "bfs(visited, graph, 'A', 'E')"
      ],
      "execution_count": 5,
      "outputs": [
        {
          "output_type": "stream",
          "text": [
            "###BFS###\n",
            "A B C D E "
          ],
          "name": "stdout"
        }
      ]
    }
  ]
}