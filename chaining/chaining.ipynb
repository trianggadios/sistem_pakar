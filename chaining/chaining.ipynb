{
  "nbformat": 4,
  "nbformat_minor": 0,
  "metadata": {
    "colab": {
      "name": "chaining.ipynb",
      "provenance": [],
      "authorship_tag": "ABX9TyOXEp+pdA28ikS+1MYIlfK9",
      "include_colab_link": true
    },
    "kernelspec": {
      "name": "python3",
      "display_name": "Python 3"
    }
  },
  "cells": [
    {
      "cell_type": "markdown",
      "metadata": {
        "id": "view-in-github",
        "colab_type": "text"
      },
      "source": [
        "<a href=\"https://colab.research.google.com/github/trianggadios/sistem_pakar/blob/main/chaining.ipynb\" target=\"_parent\"><img src=\"https://colab.research.google.com/assets/colab-badge.svg\" alt=\"Open In Colab\"/></a>"
      ]
    },
    {
      "cell_type": "markdown",
      "metadata": {
        "id": "_P6V-HvZ6DwX"
      },
      "source": [
        "# Forward Chaining"
      ]
    },
    {
      "cell_type": "code",
      "metadata": {
        "id": "NAX2EalBtM4g"
      },
      "source": [
        "name = \"simo\""
      ],
      "execution_count": 124,
      "outputs": []
    },
    {
      "cell_type": "code",
      "metadata": {
        "id": "LkbCmR4Ttmq0"
      },
      "source": [
        "what_is_the_color_of = None"
      ],
      "execution_count": 125,
      "outputs": []
    },
    {
      "cell_type": "code",
      "metadata": {
        "id": "Xb6JSazvtxvx"
      },
      "source": [
        "what_can_do_1 = \"eating\"\r\n",
        "what_can_do_2 = \"playing\""
      ],
      "execution_count": 126,
      "outputs": []
    },
    {
      "cell_type": "code",
      "metadata": {
        "id": "KoXrWWJxt-UE"
      },
      "source": [
        "data_source_object_identify = [{\"identifier_1\": \"silent\", \"identifier_2\": \"walking\", \"object_is\": \"ant\"}, {\"identifier_1\": \"singing\", \"identifier_2\": \"flying\", \"object_is\": \"canaries\"}, {\"identifier_1\": \"eating\", \"identifier_2\": \"playing\", \"object_is\": \"simo_cat\"}]\r\n",
        "data_colour_by_object_identifier = [{\"canaries\": \"yellow\"}, {\"ant\": \"black\"}, {\"simo_cat\": \"black and white\"}]"
      ],
      "execution_count": 127,
      "outputs": []
    },
    {
      "cell_type": "code",
      "metadata": {
        "id": "uBvMr3VMv7kQ"
      },
      "source": [
        "# forward chaining 1\r\n",
        "# A & B => C\r\n",
        "object_identifier = None\r\n",
        "for data_object in data_source_object_identify:\r\n",
        "  if (what_can_do_1 == data_object[\"identifier_1\"] or what_can_do_1 == data_object[\"identifier_2\"]) and (what_can_do_2 == data_object[\"identifier_1\"] or what_can_do_2 == data_object[\"identifier_2\"]):\r\n",
        "    object_identifier = data_object[\"object_is\"]\r\n",
        "    break"
      ],
      "execution_count": 128,
      "outputs": []
    },
    {
      "cell_type": "code",
      "metadata": {
        "colab": {
          "base_uri": "https://localhost:8080/"
        },
        "id": "lf0UnDo7yO7D",
        "outputId": "021b4080-5910-40a7-a6bd-248a7e7e1361"
      },
      "source": [
        "if object_identifier:\r\n",
        "  print(object_identifier)\r\n",
        "else:\r\n",
        "  print(\"result object is not found..\")"
      ],
      "execution_count": 129,
      "outputs": [
        {
          "output_type": "stream",
          "text": [
            "simo_cat\n"
          ],
          "name": "stdout"
        }
      ]
    },
    {
      "cell_type": "code",
      "metadata": {
        "id": "uWeJ-yKTyUZW"
      },
      "source": [
        "# forward chaining 2\r\n",
        "# C => D\r\n",
        "object_colour = None\r\n",
        "for data_colour in data_colour_by_object_identifier:\r\n",
        "  for key, value in data_colour.items():\r\n",
        "    if key == object_identifier:\r\n",
        "      what_is_the_color_of = data_colour[object_identifier]\r\n",
        "      break"
      ],
      "execution_count": 130,
      "outputs": []
    },
    {
      "cell_type": "code",
      "metadata": {
        "colab": {
          "base_uri": "https://localhost:8080/"
        },
        "id": "Vl_-ruXmy81_",
        "outputId": "5b644145-efb3-442f-fd3a-4d511202ceb4"
      },
      "source": [
        "if what_is_the_color_of:\r\n",
        "  print(f\"the colour of {name} is {what_is_the_color_of}\")\r\n",
        "else:\r\n",
        "  print(f\"result colour for {name} is not found...\")"
      ],
      "execution_count": 131,
      "outputs": [
        {
          "output_type": "stream",
          "text": [
            "the colour of simo is black and white\n"
          ],
          "name": "stdout"
        }
      ]
    },
    {
      "cell_type": "markdown",
      "metadata": {
        "id": "kP5iWSsh6QM4"
      },
      "source": [
        "# Backward Chaining"
      ]
    },
    {
      "cell_type": "code",
      "metadata": {
        "id": "bWSYa2lt6Sm2"
      },
      "source": [
        "name = \"tweety\""
      ],
      "execution_count": 117,
      "outputs": []
    },
    {
      "cell_type": "code",
      "metadata": {
        "id": "jZXGmYrk6nJt"
      },
      "source": [
        "what_is_the_color_of = None"
      ],
      "execution_count": 118,
      "outputs": []
    },
    {
      "cell_type": "code",
      "metadata": {
        "id": "ijmlt-8Z6nzW"
      },
      "source": [
        "what_can_do_1 = \"singing\"\r\n",
        "what_can_do_2 = \"flying\""
      ],
      "execution_count": 119,
      "outputs": []
    },
    {
      "cell_type": "code",
      "metadata": {
        "id": "GXiD1xdt6qot"
      },
      "source": [
        "data_source_object_identify = [{\"identifier_1\": \"silent\", \"identifier_2\": \"walking\", \"object_is\": \"ant\"}, {\"identifier_1\": \"singing\", \"identifier_2\": \"flying\", \"object_is\": \"canaries\"}, {\"identifier_1\": \"eating\", \"identifier_2\": \"playing\", \"object_is\": \"simo_cat\"}]\r\n",
        "data_colour_by_object_identifier = [{\"ant\": \"black\"}, {\"canaries\": \"yellow\"}, {\"simo_cat\": \"black and white\"}]"
      ],
      "execution_count": 120,
      "outputs": []
    },
    {
      "cell_type": "code",
      "metadata": {
        "id": "-28Qs59L6uDA"
      },
      "source": [
        "def backward_chaining(data_source_object_identify, data_colour_by_object_identifier):\r\n",
        "  # C => D\r\n",
        "  for data_colour in data_colour_by_object_identifier:\r\n",
        "    for key, value in data_colour.items():\r\n",
        "      # A & B => C\r\n",
        "      for data_object in data_source_object_identify:\r\n",
        "        if data_object[\"object_is\"] == key:\r\n",
        "          if (what_can_do_1 == data_object[\"identifier_1\"] or what_can_do_1 == data_object[\"identifier_2\"]) and (what_can_do_2 == data_object[\"identifier_1\"] or what_can_do_2 == data_object[\"identifier_2\"]):\r\n",
        "            # returning the colour\r\n",
        "            return value\r\n",
        "  return None"
      ],
      "execution_count": 121,
      "outputs": []
    },
    {
      "cell_type": "code",
      "metadata": {
        "id": "tFAbaOgL-vZu"
      },
      "source": [
        "what_is_the_color_of = backward_chaining(data_source_object_identify, data_colour_by_object_identifier)"
      ],
      "execution_count": 122,
      "outputs": []
    },
    {
      "cell_type": "code",
      "metadata": {
        "colab": {
          "base_uri": "https://localhost:8080/"
        },
        "id": "_h6dJp0Z-2sv",
        "outputId": "9591c7e2-dd79-4b2c-e6b9-ded868e1992e"
      },
      "source": [
        "if what_is_the_color_of:\r\n",
        "  print(f\"the colour of {name} is {what_is_the_color_of}\")\r\n",
        "else:\r\n",
        "  print(f\"result colour for {name} is not found...\")"
      ],
      "execution_count": 123,
      "outputs": [
        {
          "output_type": "stream",
          "text": [
            "the colour of tweety is yellow\n"
          ],
          "name": "stdout"
        }
      ]
    }
  ]
}